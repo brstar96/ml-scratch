{
 "cells": [
  {
   "cell_type": "code",
   "execution_count": 13,
   "metadata": {},
   "outputs": [],
   "source": [
    "import pandas as pd\n",
    "import numpy as np\n",
    "from collections import OrderedDict, defaultdict"
   ]
  },
  {
   "cell_type": "code",
   "execution_count": 14,
   "metadata": {},
   "outputs": [
    {
     "data": {
      "text/html": [
       "<div>\n",
       "<style scoped>\n",
       "    .dataframe tbody tr th:only-of-type {\n",
       "        vertical-align: middle;\n",
       "    }\n",
       "\n",
       "    .dataframe tbody tr th {\n",
       "        vertical-align: top;\n",
       "    }\n",
       "\n",
       "    .dataframe thead th {\n",
       "        text-align: right;\n",
       "    }\n",
       "</style>\n",
       "<table border=\"1\" class=\"dataframe\">\n",
       "  <thead>\n",
       "    <tr style=\"text-align: right;\">\n",
       "      <th></th>\n",
       "      <th>Just My Luck</th>\n",
       "      <th>Lady in the Water</th>\n",
       "      <th>Snakes on a Plane</th>\n",
       "      <th>Superman Returns</th>\n",
       "      <th>The Night Listener</th>\n",
       "      <th>You Me and Dupree</th>\n",
       "    </tr>\n",
       "  </thead>\n",
       "  <tbody>\n",
       "    <tr>\n",
       "      <th>Claudia Puig</th>\n",
       "      <td>3.0</td>\n",
       "      <td>NaN</td>\n",
       "      <td>3.5</td>\n",
       "      <td>NaN</td>\n",
       "      <td>4.5</td>\n",
       "      <td>NaN</td>\n",
       "    </tr>\n",
       "    <tr>\n",
       "      <th>Gene Seymour</th>\n",
       "      <td>NaN</td>\n",
       "      <td>3.0</td>\n",
       "      <td>3.5</td>\n",
       "      <td>NaN</td>\n",
       "      <td>3.0</td>\n",
       "      <td>3.5</td>\n",
       "    </tr>\n",
       "    <tr>\n",
       "      <th>Jack Matthews</th>\n",
       "      <td>NaN</td>\n",
       "      <td>3.5</td>\n",
       "      <td>4.0</td>\n",
       "      <td>5.0</td>\n",
       "      <td>3.0</td>\n",
       "      <td>3.5</td>\n",
       "    </tr>\n",
       "    <tr>\n",
       "      <th>Lisa Rose</th>\n",
       "      <td>3.0</td>\n",
       "      <td>2.5</td>\n",
       "      <td>3.5</td>\n",
       "      <td>3.5</td>\n",
       "      <td>3.0</td>\n",
       "      <td>2.5</td>\n",
       "    </tr>\n",
       "    <tr>\n",
       "      <th>Mick LaSalle</th>\n",
       "      <td>2.0</td>\n",
       "      <td>3.0</td>\n",
       "      <td>4.0</td>\n",
       "      <td>3.0</td>\n",
       "      <td>3.0</td>\n",
       "      <td>NaN</td>\n",
       "    </tr>\n",
       "    <tr>\n",
       "      <th>Toby</th>\n",
       "      <td>NaN</td>\n",
       "      <td>NaN</td>\n",
       "      <td>4.5</td>\n",
       "      <td>4.0</td>\n",
       "      <td>NaN</td>\n",
       "      <td>NaN</td>\n",
       "    </tr>\n",
       "  </tbody>\n",
       "</table>\n",
       "</div>"
      ],
      "text/plain": [
       "               Just My Luck  Lady in the Water  Snakes on a Plane  \\\n",
       "Claudia Puig            3.0                NaN                3.5   \n",
       "Gene Seymour            NaN                3.0                3.5   \n",
       "Jack Matthews           NaN                3.5                4.0   \n",
       "Lisa Rose               3.0                2.5                3.5   \n",
       "Mick LaSalle            2.0                3.0                4.0   \n",
       "Toby                    NaN                NaN                4.5   \n",
       "\n",
       "               Superman Returns  The Night Listener  You Me and Dupree  \n",
       "Claudia Puig                NaN                 4.5                NaN  \n",
       "Gene Seymour                NaN                 3.0                3.5  \n",
       "Jack Matthews               5.0                 3.0                3.5  \n",
       "Lisa Rose                   3.5                 3.0                2.5  \n",
       "Mick LaSalle                3.0                 3.0                NaN  \n",
       "Toby                        4.0                 NaN                NaN  "
      ]
     },
     "execution_count": 14,
     "metadata": {},
     "output_type": "execute_result"
    }
   ],
   "source": [
    "dict_data = {\n",
    "    'Just My Luck':{'Claudia Puig':3.0, 'Lisa Rose':3.0, 'Mick LaSalle':2.0},\n",
    "    'Lady in the Water':{'Gene Seymour':3.0, 'Jack Matthews':3.5, 'Lisa Rose':2.5,'Mick LaSalle':3.0},\n",
    "    'Snakes on a Plane':{'Claudia Puig':3.5, 'Gene Seymour':3.5, 'Jack Matthews':4.0, 'Lisa Rose':3.5, \"Mick LaSalle\":4.0, 'Toby':4.5},\n",
    "    'Superman Returns':{'Jack Matthews':5.0, 'Lisa Rose':3.5, 'Mick LaSalle':3.0, 'Toby':4.0},\n",
    "    'The Night Listener':{'Claudia Puig':4.5, 'Gene Seymour':3.0, 'Jack Matthews':3.0, \"Lisa Rose\":3.0, 'Mick LaSalle':3.0},\n",
    "    'You Me and Dupree':{'Gene Seymour':3.5, 'Jack Matthews':3.5, 'Lisa Rose':2.5}\n",
    "}\n",
    "matrix1 = pd.DataFrame(dict_data)\n",
    "matrix1"
   ]
  },
  {
   "cell_type": "code",
   "execution_count": 15,
   "metadata": {
    "scrolled": true
   },
   "outputs": [
    {
     "data": {
      "text/html": [
       "<div>\n",
       "<style scoped>\n",
       "    .dataframe tbody tr th:only-of-type {\n",
       "        vertical-align: middle;\n",
       "    }\n",
       "\n",
       "    .dataframe tbody tr th {\n",
       "        vertical-align: top;\n",
       "    }\n",
       "\n",
       "    .dataframe thead th {\n",
       "        text-align: right;\n",
       "    }\n",
       "</style>\n",
       "<table border=\"1\" class=\"dataframe\">\n",
       "  <thead>\n",
       "    <tr style=\"text-align: right;\">\n",
       "      <th></th>\n",
       "      <th>source</th>\n",
       "      <th>target</th>\n",
       "      <th>rating</th>\n",
       "    </tr>\n",
       "  </thead>\n",
       "  <tbody>\n",
       "    <tr>\n",
       "      <th>11</th>\n",
       "      <td>Claudia Puig</td>\n",
       "      <td>Just My Luck</td>\n",
       "      <td>3.0</td>\n",
       "    </tr>\n",
       "    <tr>\n",
       "      <th>15</th>\n",
       "      <td>Lisa Rose</td>\n",
       "      <td>Just My Luck</td>\n",
       "      <td>3.0</td>\n",
       "    </tr>\n",
       "    <tr>\n",
       "      <th>7</th>\n",
       "      <td>Mick LaSalle</td>\n",
       "      <td>Just My Luck</td>\n",
       "      <td>2.0</td>\n",
       "    </tr>\n",
       "    <tr>\n",
       "      <th>21</th>\n",
       "      <td>Gene Seymour</td>\n",
       "      <td>Lady in the Water</td>\n",
       "      <td>3.0</td>\n",
       "    </tr>\n",
       "    <tr>\n",
       "      <th>0</th>\n",
       "      <td>Jack Matthews</td>\n",
       "      <td>Lady in the Water</td>\n",
       "      <td>3.0</td>\n",
       "    </tr>\n",
       "  </tbody>\n",
       "</table>\n",
       "</div>"
      ],
      "text/plain": [
       "           source             target  rating\n",
       "11   Claudia Puig       Just My Luck     3.0\n",
       "15      Lisa Rose       Just My Luck     3.0\n",
       "7    Mick LaSalle       Just My Luck     2.0\n",
       "21   Gene Seymour  Lady in the Water     3.0\n",
       "0   Jack Matthews  Lady in the Water     3.0"
      ]
     },
     "execution_count": 15,
     "metadata": {},
     "output_type": "execute_result"
    }
   ],
   "source": [
    "origin_data = pd.read_csv('movie_rating.csv').sort_values([\"target\", \"source\"])\n",
    "origin_data.head()"
   ]
  },
  {
   "cell_type": "code",
   "execution_count": 33,
   "metadata": {},
   "outputs": [
    {
     "data": {
      "text/plain": [
       "[['Claudia Puig', 'Just My Luck', 3.0],\n",
       " ['Lisa Rose', 'Just My Luck', 3.0],\n",
       " ['Mick LaSalle', 'Just My Luck', 2.0],\n",
       " ['Gene Seymour', 'Lady in the Water', 3.0],\n",
       " ['Jack Matthews', 'Lady in the Water', 3.0],\n",
       " ['Lisa Rose', 'Lady in the Water', 2.5],\n",
       " ['Mick LaSalle', 'Lady in the Water', 3.0],\n",
       " ['Claudia Puig', 'Snakes on a Plane', 3.5],\n",
       " ['Gene Seymour', 'Snakes on a Plane', 3.5],\n",
       " ['Jack Matthews', 'Snakes on a Plane', 4.0],\n",
       " ['Lisa Rose', 'Snakes on a Plane', 3.5],\n",
       " ['Mick LaSalle', 'Snakes on a Plane', 4.0],\n",
       " ['Toby', 'Snakes on a Plane', 4.5],\n",
       " ['Jack Matthews', 'Superman Returns', 5.0],\n",
       " ['Lisa Rose', 'Superman Returns', 3.5],\n",
       " ['Mick LaSalle', 'Superman Returns', 3.0],\n",
       " ['Toby', 'Superman Returns', 4.0],\n",
       " ['Claudia Puig', 'The Night Listener', 4.5],\n",
       " ['Gene Seymour', 'The Night Listener', 3.0],\n",
       " ['Jack Matthews', 'The Night Listener', 3.0],\n",
       " ['Lisa Rose', 'The Night Listener', 3.0],\n",
       " ['Mick LaSalle', 'The Night Listener', 3.0],\n",
       " ['Gene Seymour', 'You Me and Dupree', 3.5],\n",
       " ['Jack Matthews', 'You Me and Dupree', 3.5],\n",
       " ['Lisa Rose', 'You Me and Dupree', 2.5]]"
      ]
     },
     "execution_count": 33,
     "metadata": {},
     "output_type": "execute_result"
    }
   ],
   "source": [
    "data=origin_data.to_dict('split')['data']\n",
    "data"
   ]
  },
  {
   "cell_type": "code",
   "execution_count": 40,
   "metadata": {},
   "outputs": [
    {
     "data": {
      "text/plain": [
       "dict_items([('Just My Luck', [{'Claudia Puig': 3.0}, {'Lisa Rose': 3.0}, {'Mick LaSalle': 2.0}]), ('Lady in the Water', [{'Gene Seymour': 3.0}, {'Jack Matthews': 3.0}, {'Lisa Rose': 2.5}, {'Mick LaSalle': 3.0}]), ('Snakes on a Plane', [{'Claudia Puig': 3.5}, {'Gene Seymour': 3.5}, {'Jack Matthews': 4.0}, {'Lisa Rose': 3.5}, {'Mick LaSalle': 4.0}, {'Toby': 4.5}]), ('Superman Returns', [{'Jack Matthews': 5.0}, {'Lisa Rose': 3.5}, {'Mick LaSalle': 3.0}, {'Toby': 4.0}]), ('The Night Listener', [{'Claudia Puig': 4.5}, {'Gene Seymour': 3.0}, {'Jack Matthews': 3.0}, {'Lisa Rose': 3.0}, {'Mick LaSalle': 3.0}]), ('You Me and Dupree', [{'Gene Seymour': 3.5}, {'Jack Matthews': 3.5}, {'Lisa Rose': 2.5}])])"
      ]
     },
     "execution_count": 40,
     "metadata": {},
     "output_type": "execute_result"
    }
   ],
   "source": [
    "dict_data = defaultdict(list)\n",
    "[dict_data[movie].append({user:rating}) for user, movie, rating in origin_data.to_dict('split')['data']]\n",
    "\n",
    "dict_data.items()"
   ]
  }
 ],
 "metadata": {
  "kernelspec": {
   "display_name": "Python 3",
   "language": "python",
   "name": "python3"
  },
  "language_info": {
   "codemirror_mode": {
    "name": "ipython",
    "version": 3
   },
   "file_extension": ".py",
   "mimetype": "text/x-python",
   "name": "python",
   "nbconvert_exporter": "python",
   "pygments_lexer": "ipython3",
   "version": "3.7.0"
  }
 },
 "nbformat": 4,
 "nbformat_minor": 2
}
